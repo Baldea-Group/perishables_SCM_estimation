{
 "cells": [
  {
   "cell_type": "code",
   "execution_count": 6,
   "id": "4e836174-3763-4b86-a431-94f76dcbb877",
   "metadata": {},
   "outputs": [],
   "source": [
    "import numpy as np \n",
    "import pickle as pk \n",
    "import pyomo.environ as pyo\n",
    "\n",
    "import model_MHE\n",
    "from instance_data import data_fun\n",
    "from importlib import reload \n",
    "\n",
    "font = {'family' : 'normal',\n",
    "        'weight' : 'normal',\n",
    "        'size'   : 20}\n",
    "import matplotlib\n",
    "matplotlib.rc('font', **font)\n",
    "import matplotlib.pyplot as plt "
   ]
  },
  {
   "cell_type": "code",
   "execution_count": 7,
   "id": "2f0903ae-e632-48a5-a5eb-928de9b5c888",
   "metadata": {},
   "outputs": [],
   "source": [
    "path = '/Users/ferlejarza/Desktop/Baldea/observability_estimation_perishbables/code/MPC_MHE_0916/'\n",
    "\n",
    "with open(path+'/data_estimation2_0919/estimation_fb_x_past_true.pickle', 'rb') as handle:\n",
    "    estimation_fb_x_past_true_instance = pk.load(handle)\n",
    "    \n",
    "with open(path+'/data_estimation2_0919/estimation_fb_x_past.pickle', 'rb') as handle:\n",
    "    estimation_fb_x_past_instance  = pk.load(handle)\n",
    "    \n",
    "with open(path+'/data_estimation2_0919/estimation_fb_u_past.pickle', 'rb') as handle:\n",
    "    estimation_fb_u_past_instance  = pk.load(handle)\n",
    "    \n",
    "with open(path+'/data_estimation2_0919/estimation_fb_u_past_true.pickle', 'rb') as handle:\n",
    "    estimation_fb_u_past_true_instance  = pk.load(handle)\n",
    "    \n",
    "with open(path+'/data_estimation2_0919/estimation_fb_demand_dict.pickle', 'rb') as handle:\n",
    "    estimation_fb_demand_instance = pk.load(handle) \n",
    "    \n",
    "with open(path+'/data_estimation2_0919/estimation_fb_x_past_true.pickle', 'rb') as handle:\n",
    "    no_fb_inv_x_past_true_instance = pk.load(handle)\n",
    "    \n",
    "with open(path+'/data_estimation2_0919/no_fb_inv_x_past.pickle', 'rb') as handle:\n",
    "    no_fb_inv_x_past_instance  = pk.load(handle)\n",
    "    \n",
    "with open(path+'/data_estimation2_0919/no_fb_inv_u_past.pickle', 'rb') as handle:\n",
    "    no_fb_inv_u_past_instance  = pk.load(handle)\n",
    "    \n",
    "with open(path+'/data_estimation2_0919/no_fb_inv_u_past_true.pickle', 'rb') as handle:\n",
    "    no_fb_inv_u_past_true_instance  = pk.load(handle)\n",
    "    \n",
    "with open(path+'/data_estimation2_0919/no_fb_inv_demand_dict.pickle', 'rb') as handle:\n",
    "    no_fb_inv_demand_instance = pk.load(handle)    \n"
   ]
  },
  {
   "cell_type": "code",
   "execution_count": 8,
   "id": "0950ee40-50e1-493a-bfb7-fb1839bdd232",
   "metadata": {},
   "outputs": [
    {
     "data": {
      "text/plain": [
       "dict_keys([0, 1, 2, 3, 4, 5, 6, 7, 8, 9])"
      ]
     },
     "execution_count": 8,
     "metadata": {},
     "output_type": "execute_result"
    }
   ],
   "source": [
    "estimation_fb_x_past_true_instance.keys() "
   ]
  },
  {
   "cell_type": "code",
   "execution_count": 9,
   "id": "2025f3b2-a021-4817-a113-3e781facce30",
   "metadata": {},
   "outputs": [],
   "source": [
    "norm_estimate_instance = {}\n",
    "norm_nom_estimate_instance = {}\n",
    "\n",
    "for instance in estimation_fb_x_past_true_instance.keys():\n",
    "\n",
    "    x_past_true_est = estimation_fb_x_past_true_instance[instance]\n",
    "    x_past_est = estimation_fb_x_past_instance[instance]\n",
    "    \n",
    "    x_past_true_nom = no_fb_inv_x_past_true_instance[instance]\n",
    "    x_past_nom = no_fb_inv_x_past_instance[instance]\n",
    "\n",
    "    norm_estimate = [] \n",
    "    norm_estimate_nom  = []\n",
    "    for t in range(5,50): \n",
    "        x = [] \n",
    "        y = [] \n",
    "        z = [] \n",
    "        for q in range(1,31): \n",
    "            x.append(x_past_true_est['inventory'][('D1',q,1,t)])\n",
    "            y.append(x_past_est['inventory'][('D1',q,1,t)]) \n",
    "            z.append(x_past_nom['inventory'][('D1',q,1,t)])\n",
    "\n",
    "        norm_estimate.append(np.sqrt(np.linalg.norm(np.array(x)-np.array(y),2))/len(x))  \n",
    "        norm_estimate_nom.append(np.sqrt(np.linalg.norm(np.array(x)-np.array(z),2))/len(x))  \n",
    "        \n",
    "    norm_estimate_instance[instance] = norm_estimate  \n",
    "    norm_nom_estimate_instance[instance] = norm_estimate_nom  \n",
    "    \n",
    "norm_estimate_mean = [np.mean([norm_estimate_instance[i][t-5] for i in norm_estimate_instance.keys()]) for t in range(5,50)]\n",
    "norm_estimate_std = [np.std([norm_estimate_instance[i][t-5] for i in norm_estimate_instance.keys()]) for t in range(5,50)]\n",
    "\n",
    "norm_nom_estimate_mean = [np.mean([norm_nom_estimate_instance[i][t-5] for i in norm_nom_estimate_instance.keys()]) for t in range(5,50)]\n",
    "norm_nom_estimate_std = [np.std([norm_nom_estimate_instance[i][t-5] for i in norm_nom_estimate_instance.keys()]) for t in range(5,50)]\n"
   ]
  },
  {
   "cell_type": "code",
   "execution_count": 10,
   "id": "7e710082-14cc-4ce5-a091-87f8f24517d0",
   "metadata": {},
   "outputs": [
    {
     "name": "stderr",
     "output_type": "stream",
     "text": [
      "findfont: Font family ['normal'] not found. Falling back to DejaVu Sans.\n"
     ]
    },
    {
     "data": {
      "image/png": "[encoded data removed]",
      "text/plain": [
       "<Figure size 432x288 with 1 Axes>"
      ]
     },
     "metadata": {
      "needs_background": "light"
     },
     "output_type": "display_data"
    }
   ],
   "source": [
    "\n",
    "plt.step([i for i in range(5,50)], norm_nom_estimate_mean, color = 'red') \n",
    "plt.step([i for i in range(5,50)], norm_estimate_mean, color = 'k') \n",
    "\n",
    "plt.fill_between([i for i in range(5,50)], \n",
    "                 [j-1.96*norm_nom_estimate_std[i] for i,j in enumerate(norm_nom_estimate_mean)], \n",
    "                 [j+1.96*norm_nom_estimate_std[i] for i,j in enumerate(norm_nom_estimate_mean)], \n",
    "                 alpha = 0.1, step = \"pre\", color = 'red')\n",
    "plt.fill_between([i for i in range(5,50)], \n",
    "                 [j-1.96*norm_estimate_std[i] for i,j in enumerate(norm_estimate_mean)], \n",
    "                 [j+1.96*norm_estimate_std[i] for i,j in enumerate(norm_estimate_mean)], \n",
    "                 alpha = 0.1, step = \"pre\", color = 'k')\n",
    "\n",
    "plt.xticks([10,20,30,40,50])\n",
    "plt.xlabel('Time (days)', labelpad = 15) \n",
    "plt.ylabel(r'RMSE$_{D_1}$', labelpad=15)\n",
    "plt.legend([r'Nominal',\n",
    "            r'Estimation'], fontsize = 10, ncol = 1, loc = 'upper right') ; \n",
    "plt.tight_layout() \n",
    "# plt.axvline(x=20,linestyle = '--',color = 'grey') \n",
    "plt.savefig('./figures/RMSE_estimate_vs_nominal_1_2_D1') "
   ]
  },
  {
   "cell_type": "code",
   "execution_count": 11,
   "id": "6d014dbc-e14e-4aed-9dd1-2a99d6a74c21",
   "metadata": {},
   "outputs": [],
   "source": [
    "norm_estimate_instance = {}\n",
    "norm_nom_estimate_instance = {}\n",
    "\n",
    "for instance in estimation_fb_x_past_true_instance.keys():\n",
    "\n",
    "    x_past_true_est = estimation_fb_x_past_true_instance[instance]\n",
    "    x_past_est = estimation_fb_x_past_instance[instance]\n",
    "    \n",
    "    x_past_true_nom = no_fb_inv_x_past_true_instance[instance]\n",
    "    x_past_nom = no_fb_inv_x_past_instance[instance]\n",
    "\n",
    "    norm_estimate = [] \n",
    "    norm_estimate_nom  = []\n",
    "    for t in range(5,50): \n",
    "        x = [] \n",
    "        y = [] \n",
    "        z = [] \n",
    "        for q in range(1,31): \n",
    "            x.append(x_past_true_est['inventory'][('D1',q,1,t)])\n",
    "            y.append(x_past_est['inventory'][('D1',q,1,t)]) \n",
    "            z.append(x_past_nom['inventory'][('D1',q,1,t)])\n",
    "\n",
    "        \n",
    "        norm_estimate.append(np.sqrt(np.linalg.norm(np.array(x)-np.array(y),2)/np.linalg.norm(np.array(x)-np.array(z),2)))\n",
    "        \n",
    "    norm_estimate_instance[instance] = norm_estimate  \n",
    "    \n",
    "norm_estimate_mean = [np.mean([norm_estimate_instance[i][t-5] for i in norm_estimate_instance.keys()]) for t in range(5,50)]\n",
    "norm_estimate_std = [np.std([norm_estimate_instance[i][t-5] for i in norm_estimate_instance.keys()]) for t in range(5,50)]\n"
   ]
  },
  {
   "cell_type": "code",
   "execution_count": 12,
   "id": "4d5b3cd9-6720-49e8-a713-68b6a4c4e998",
   "metadata": {},
   "outputs": [
    {
     "data": {
      "image/png": "[encoded data removed]",
      "text/plain": [
       "<Figure size 432x288 with 1 Axes>"
      ]
     },
     "metadata": {
      "needs_background": "light"
     },
     "output_type": "display_data"
    }
   ],
   "source": [
    "\n",
    "for i in estimation_fb_x_past_true_instance.keys(): \n",
    "    plt.step([i for i in range(5,50)], norm_estimate_instance[i],color='silver',alpha=0.2) \n",
    "    \n",
    "ax = plt.step([i for i in range(5,50)], norm_estimate_mean, color = 'k') \n",
    "plt.fill_between([i for i in range(5,50)], \n",
    "                 [j-1.96*norm_estimate_std[i] for i,j in enumerate(norm_estimate_mean)], \n",
    "                 [j+1.96*norm_estimate_std[i] for i,j in enumerate(norm_estimate_mean)], \n",
    "                 color = 'darkgrey', alpha = 0.1, step = \"pre\")\n",
    "plt.xticks([10,20,30,40,50])\n",
    "axes = plt.gca()\n",
    "plt.xlabel('Time (days)', labelpad = 15) \n",
    "plt.ylabel(r'$\\frac{\\rm{Estimation\\;\\; RMSE}_{D_1}}{Nominal \\;\\; RMSE_{D_1}}$', labelpad=15)\n",
    "plt.tight_layout() \n",
    "plt.axhline(y=1,linestyle = '--',color = 'darkgrey') \n",
    "plt.savefig('./figures/RMSE_estimate_vs_nominal_2_D1') \n",
    "# plt.ylim((0.4125897336271165, 1.4036141623964197))"
   ]
  },
  {
   "cell_type": "code",
   "execution_count": null,
   "id": "87676186-8ad3-4ef9-9cde-773ed4b501a7",
   "metadata": {},
   "outputs": [],
   "source": []
  }
 ],
 "metadata": {
  "kernelspec": {
   "display_name": "pysindy_env",
   "language": "python",
   "name": "pysindy_env"
  },
  "language_info": {
   "codemirror_mode": {
    "name": "ipython",
    "version": 3
   },
   "file_extension": ".py",
   "mimetype": "text/x-python",
   "name": "python",
   "nbconvert_exporter": "python",
   "pygments_lexer": "ipython3",
   "version": "3.9.12"
  }
 },
 "nbformat": 4,
 "nbformat_minor": 5
}
